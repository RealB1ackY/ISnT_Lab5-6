{
  "cells": [
    {
      "cell_type": "markdown",
      "metadata": {
        "id": "view-in-github",
        "colab_type": "text"
      },
      "source": [
        "<a href=\"https://colab.research.google.com/github/RealB1ackY/ISnT_Lab5-6/blob/main/PR3_SVM.ipynb\" target=\"_parent\"><img src=\"https://colab.research.google.com/assets/colab-badge.svg\" alt=\"Open In Colab\"/></a>"
      ]
    },
    {
      "cell_type": "code",
      "source": [],
      "metadata": {
        "id": "bdvQf_cugk4Q"
      },
      "id": "bdvQf_cugk4Q",
      "execution_count": null,
      "outputs": []
    },
    {
      "cell_type": "code",
      "source": [
        "from google.colab import drive\n",
        "drive.mount('/content/drive')"
      ],
      "metadata": {
        "colab": {
          "base_uri": "https://localhost:8080/"
        },
        "id": "92IGXgaxglqB",
        "outputId": "737cad64-d8f5-4fff-c78c-51e7cb31b3b9"
      },
      "id": "92IGXgaxglqB",
      "execution_count": null,
      "outputs": [
        {
          "output_type": "stream",
          "name": "stdout",
          "text": [
            "Mounted at /content/drive\n"
          ]
        }
      ]
    },
    {
      "cell_type": "code",
      "source": [
        "!pip install apriori_python efficient-apriori fpgrowth_py pyarmviz numpy pandas matplotlib seaborn  scikit-learn matplotlib umap-learn"
      ],
      "metadata": {
        "colab": {
          "base_uri": "https://localhost:8080/"
        },
        "id": "ru7nahlu5RB6",
        "outputId": "dec418a5-7711-43fb-8a6a-ef2b76d14708"
      },
      "id": "ru7nahlu5RB6",
      "execution_count": null,
      "outputs": [
        {
          "output_type": "stream",
          "name": "stdout",
          "text": [
            "Looking in indexes: https://pypi.org/simple, https://us-python.pkg.dev/colab-wheels/public/simple/\n",
            "Collecting apriori_python\n",
            "  Downloading apriori_python-1.0.4-py3-none-any.whl (5.0 kB)\n",
            "Collecting efficient-apriori\n",
            "  Downloading efficient_apriori-2.0.1-py3-none-any.whl (14 kB)\n",
            "Collecting fpgrowth_py\n",
            "  Downloading fpgrowth_py-1.0.0-py3-none-any.whl (5.6 kB)\n",
            "Collecting pyarmviz\n",
            "  Downloading PyARMViz-0.1.4-py2.py3-none-any.whl (658 kB)\n",
            "\u001b[K     |████████████████████████████████| 658 kB 9.5 MB/s \n",
            "\u001b[?25hRequirement already satisfied: numpy in /usr/local/lib/python3.7/dist-packages (1.21.6)\n",
            "Requirement already satisfied: pandas in /usr/local/lib/python3.7/dist-packages (1.3.5)\n",
            "Requirement already satisfied: matplotlib in /usr/local/lib/python3.7/dist-packages (3.2.2)\n",
            "Requirement already satisfied: seaborn in /usr/local/lib/python3.7/dist-packages (0.11.2)\n",
            "Requirement already satisfied: scikit-learn in /usr/local/lib/python3.7/dist-packages (1.0.2)\n",
            "Collecting umap-learn\n",
            "  Downloading umap-learn-0.5.3.tar.gz (88 kB)\n",
            "\u001b[K     |████████████████████████████████| 88 kB 8.0 MB/s \n",
            "\u001b[?25hRequirement already satisfied: networkx in /usr/local/lib/python3.7/dist-packages (from pyarmviz) (2.6.3)\n",
            "Requirement already satisfied: plotly in /usr/local/lib/python3.7/dist-packages (from pyarmviz) (5.5.0)\n",
            "Requirement already satisfied: pytz>=2017.3 in /usr/local/lib/python3.7/dist-packages (from pandas) (2022.5)\n",
            "Requirement already satisfied: python-dateutil>=2.7.3 in /usr/local/lib/python3.7/dist-packages (from pandas) (2.8.2)\n",
            "Requirement already satisfied: six>=1.5 in /usr/local/lib/python3.7/dist-packages (from python-dateutil>=2.7.3->pandas) (1.15.0)\n",
            "Requirement already satisfied: kiwisolver>=1.0.1 in /usr/local/lib/python3.7/dist-packages (from matplotlib) (1.4.4)\n",
            "Requirement already satisfied: pyparsing!=2.0.4,!=2.1.2,!=2.1.6,>=2.0.1 in /usr/local/lib/python3.7/dist-packages (from matplotlib) (3.0.9)\n",
            "Requirement already satisfied: cycler>=0.10 in /usr/local/lib/python3.7/dist-packages (from matplotlib) (0.11.0)\n",
            "Requirement already satisfied: typing-extensions in /usr/local/lib/python3.7/dist-packages (from kiwisolver>=1.0.1->matplotlib) (4.1.1)\n",
            "Requirement already satisfied: scipy>=1.0 in /usr/local/lib/python3.7/dist-packages (from seaborn) (1.7.3)\n",
            "Requirement already satisfied: joblib>=0.11 in /usr/local/lib/python3.7/dist-packages (from scikit-learn) (1.2.0)\n",
            "Requirement already satisfied: threadpoolctl>=2.0.0 in /usr/local/lib/python3.7/dist-packages (from scikit-learn) (3.1.0)\n",
            "Requirement already satisfied: numba>=0.49 in /usr/local/lib/python3.7/dist-packages (from umap-learn) (0.56.3)\n",
            "Collecting pynndescent>=0.5\n",
            "  Downloading pynndescent-0.5.7.tar.gz (1.1 MB)\n",
            "\u001b[K     |████████████████████████████████| 1.1 MB 42.8 MB/s \n",
            "\u001b[?25hRequirement already satisfied: tqdm in /usr/local/lib/python3.7/dist-packages (from umap-learn) (4.64.1)\n",
            "Requirement already satisfied: llvmlite<0.40,>=0.39.0dev0 in /usr/local/lib/python3.7/dist-packages (from numba>=0.49->umap-learn) (0.39.1)\n",
            "Requirement already satisfied: importlib-metadata in /usr/local/lib/python3.7/dist-packages (from numba>=0.49->umap-learn) (4.13.0)\n",
            "Requirement already satisfied: setuptools in /usr/local/lib/python3.7/dist-packages (from numba>=0.49->umap-learn) (57.4.0)\n",
            "Requirement already satisfied: zipp>=0.5 in /usr/local/lib/python3.7/dist-packages (from importlib-metadata->numba>=0.49->umap-learn) (3.9.0)\n",
            "Requirement already satisfied: tenacity>=6.2.0 in /usr/local/lib/python3.7/dist-packages (from plotly->pyarmviz) (8.1.0)\n",
            "Building wheels for collected packages: umap-learn, pynndescent\n",
            "  Building wheel for umap-learn (setup.py) ... \u001b[?25l\u001b[?25hdone\n",
            "  Created wheel for umap-learn: filename=umap_learn-0.5.3-py3-none-any.whl size=82829 sha256=03238828acbcd4d1360f849476621d86b821fe1c5c7ffe19bf31b44b32e6f2b0\n",
            "  Stored in directory: /root/.cache/pip/wheels/b3/52/a5/1fd9e3e76a7ab34f134c07469cd6f16e27ef3a37aeff1fe821\n",
            "  Building wheel for pynndescent (setup.py) ... \u001b[?25l\u001b[?25hdone\n",
            "  Created wheel for pynndescent: filename=pynndescent-0.5.7-py3-none-any.whl size=54286 sha256=de48f01b04a602a6ca3132aec29c7fd6116d9e58a8c35ac6c5a2772e89b99118\n",
            "  Stored in directory: /root/.cache/pip/wheels/7f/2a/f8/7bd5dcec71bd5c669f6f574db3113513696b98f3f9b51f496c\n",
            "Successfully built umap-learn pynndescent\n",
            "Installing collected packages: pynndescent, umap-learn, pyarmviz, fpgrowth-py, efficient-apriori, apriori-python\n",
            "Successfully installed apriori-python-1.0.4 efficient-apriori-2.0.1 fpgrowth-py-1.0.0 pyarmviz-0.1.4 pynndescent-0.5.7 umap-learn-0.5.3\n"
          ]
        }
      ]
    },
    {
      "cell_type": "code",
      "execution_count": null,
      "id": "90a01684",
      "metadata": {
        "colab": {
          "base_uri": "https://localhost:8080/",
          "height": 206
        },
        "id": "90a01684",
        "outputId": "5fdc00f2-661a-4c29-9137-0ece768d8e1a"
      },
      "outputs": [
        {
          "output_type": "execute_result",
          "data": {
            "text/plain": [
              "   Exam 1 marks  Exam 2 marks  Admission status\n",
              "0     34.623660     78.024693                 0\n",
              "1     30.286711     43.894998                 0\n",
              "2     35.847409     72.902198                 0\n",
              "3     60.182599     86.308552                 1\n",
              "4     79.032736     75.344376                 1"
            ],
            "text/html": [
              "\n",
              "  <div id=\"df-918e9a19-a0b5-4287-95fa-45e6ad0ae89c\">\n",
              "    <div class=\"colab-df-container\">\n",
              "      <div>\n",
              "<style scoped>\n",
              "    .dataframe tbody tr th:only-of-type {\n",
              "        vertical-align: middle;\n",
              "    }\n",
              "\n",
              "    .dataframe tbody tr th {\n",
              "        vertical-align: top;\n",
              "    }\n",
              "\n",
              "    .dataframe thead th {\n",
              "        text-align: right;\n",
              "    }\n",
              "</style>\n",
              "<table border=\"1\" class=\"dataframe\">\n",
              "  <thead>\n",
              "    <tr style=\"text-align: right;\">\n",
              "      <th></th>\n",
              "      <th>Exam 1 marks</th>\n",
              "      <th>Exam 2 marks</th>\n",
              "      <th>Admission status</th>\n",
              "    </tr>\n",
              "  </thead>\n",
              "  <tbody>\n",
              "    <tr>\n",
              "      <th>0</th>\n",
              "      <td>34.623660</td>\n",
              "      <td>78.024693</td>\n",
              "      <td>0</td>\n",
              "    </tr>\n",
              "    <tr>\n",
              "      <th>1</th>\n",
              "      <td>30.286711</td>\n",
              "      <td>43.894998</td>\n",
              "      <td>0</td>\n",
              "    </tr>\n",
              "    <tr>\n",
              "      <th>2</th>\n",
              "      <td>35.847409</td>\n",
              "      <td>72.902198</td>\n",
              "      <td>0</td>\n",
              "    </tr>\n",
              "    <tr>\n",
              "      <th>3</th>\n",
              "      <td>60.182599</td>\n",
              "      <td>86.308552</td>\n",
              "      <td>1</td>\n",
              "    </tr>\n",
              "    <tr>\n",
              "      <th>4</th>\n",
              "      <td>79.032736</td>\n",
              "      <td>75.344376</td>\n",
              "      <td>1</td>\n",
              "    </tr>\n",
              "  </tbody>\n",
              "</table>\n",
              "</div>\n",
              "      <button class=\"colab-df-convert\" onclick=\"convertToInteractive('df-918e9a19-a0b5-4287-95fa-45e6ad0ae89c')\"\n",
              "              title=\"Convert this dataframe to an interactive table.\"\n",
              "              style=\"display:none;\">\n",
              "        \n",
              "  <svg xmlns=\"http://www.w3.org/2000/svg\" height=\"24px\"viewBox=\"0 0 24 24\"\n",
              "       width=\"24px\">\n",
              "    <path d=\"M0 0h24v24H0V0z\" fill=\"none\"/>\n",
              "    <path d=\"M18.56 5.44l.94 2.06.94-2.06 2.06-.94-2.06-.94-.94-2.06-.94 2.06-2.06.94zm-11 1L8.5 8.5l.94-2.06 2.06-.94-2.06-.94L8.5 2.5l-.94 2.06-2.06.94zm10 10l.94 2.06.94-2.06 2.06-.94-2.06-.94-.94-2.06-.94 2.06-2.06.94z\"/><path d=\"M17.41 7.96l-1.37-1.37c-.4-.4-.92-.59-1.43-.59-.52 0-1.04.2-1.43.59L10.3 9.45l-7.72 7.72c-.78.78-.78 2.05 0 2.83L4 21.41c.39.39.9.59 1.41.59.51 0 1.02-.2 1.41-.59l7.78-7.78 2.81-2.81c.8-.78.8-2.07 0-2.86zM5.41 20L4 18.59l7.72-7.72 1.47 1.35L5.41 20z\"/>\n",
              "  </svg>\n",
              "      </button>\n",
              "      \n",
              "  <style>\n",
              "    .colab-df-container {\n",
              "      display:flex;\n",
              "      flex-wrap:wrap;\n",
              "      gap: 12px;\n",
              "    }\n",
              "\n",
              "    .colab-df-convert {\n",
              "      background-color: #E8F0FE;\n",
              "      border: none;\n",
              "      border-radius: 50%;\n",
              "      cursor: pointer;\n",
              "      display: none;\n",
              "      fill: #1967D2;\n",
              "      height: 32px;\n",
              "      padding: 0 0 0 0;\n",
              "      width: 32px;\n",
              "    }\n",
              "\n",
              "    .colab-df-convert:hover {\n",
              "      background-color: #E2EBFA;\n",
              "      box-shadow: 0px 1px 2px rgba(60, 64, 67, 0.3), 0px 1px 3px 1px rgba(60, 64, 67, 0.15);\n",
              "      fill: #174EA6;\n",
              "    }\n",
              "\n",
              "    [theme=dark] .colab-df-convert {\n",
              "      background-color: #3B4455;\n",
              "      fill: #D2E3FC;\n",
              "    }\n",
              "\n",
              "    [theme=dark] .colab-df-convert:hover {\n",
              "      background-color: #434B5C;\n",
              "      box-shadow: 0px 1px 3px 1px rgba(0, 0, 0, 0.15);\n",
              "      filter: drop-shadow(0px 1px 2px rgba(0, 0, 0, 0.3));\n",
              "      fill: #FFFFFF;\n",
              "    }\n",
              "  </style>\n",
              "\n",
              "      <script>\n",
              "        const buttonEl =\n",
              "          document.querySelector('#df-918e9a19-a0b5-4287-95fa-45e6ad0ae89c button.colab-df-convert');\n",
              "        buttonEl.style.display =\n",
              "          google.colab.kernel.accessAllowed ? 'block' : 'none';\n",
              "\n",
              "        async function convertToInteractive(key) {\n",
              "          const element = document.querySelector('#df-918e9a19-a0b5-4287-95fa-45e6ad0ae89c');\n",
              "          const dataTable =\n",
              "            await google.colab.kernel.invokeFunction('convertToInteractive',\n",
              "                                                     [key], {});\n",
              "          if (!dataTable) return;\n",
              "\n",
              "          const docLinkHtml = 'Like what you see? Visit the ' +\n",
              "            '<a target=\"_blank\" href=https://colab.research.google.com/notebooks/data_table.ipynb>data table notebook</a>'\n",
              "            + ' to learn more about interactive tables.';\n",
              "          element.innerHTML = '';\n",
              "          dataTable['output_type'] = 'display_data';\n",
              "          await google.colab.output.renderOutput(dataTable, element);\n",
              "          const docLink = document.createElement('div');\n",
              "          docLink.innerHTML = docLinkHtml;\n",
              "          element.appendChild(docLink);\n",
              "        }\n",
              "      </script>\n",
              "    </div>\n",
              "  </div>\n",
              "  "
            ]
          },
          "metadata": {},
          "execution_count": 3
        }
      ],
      "source": [
        "import numpy as np # linear algebra\n",
        "import pandas as pd # data processing, CSV file I/O (e.g. pd.read_csv)\n",
        "import matplotlib.pyplot as plt # for data visualization\n",
        "import seaborn as sns # for statistical data visualization\n",
        "import warnings\n",
        "\n",
        "warnings.filterwarnings('ignore')\n",
        "df = pd.read_csv('https://raw.githubusercontent.com/satishgunjal/datasets/master/admission_basedon_exam_scores.csv')\n",
        "\n",
        "# df = pd.read_csv(\"dataset/glass.csv\")\n",
        "#просмотр измерений набора данных\n",
        "df.shape\n",
        "#предварительный просмотр набора данных\n",
        "df.head()\n"
      ]
    },
    {
      "cell_type": "code",
      "execution_count": null,
      "id": "0662b03d",
      "metadata": {
        "colab": {
          "base_uri": "https://localhost:8080/"
        },
        "id": "0662b03d",
        "outputId": "73d22300-60bd-4dc1-ec05-b5863042cb11"
      },
      "outputs": [
        {
          "output_type": "execute_result",
          "data": {
            "text/plain": [
              "Index(['Exam 1 marks', 'Exam 2 marks', 'Admission status'], dtype='object')"
            ]
          },
          "metadata": {},
          "execution_count": 4
        }
      ],
      "source": [
        "#просмотр названия столбцов набора данных\n",
        "col_names = df.columns\n",
        "\n",
        "col_names"
      ]
    },
    {
      "cell_type": "code",
      "execution_count": null,
      "id": "5a1098f8",
      "metadata": {
        "id": "5a1098f8"
      },
      "outputs": [],
      "source": [
        "# remove leading spaces from column names\n",
        "\n",
        "df.columns = df.columns.str.strip()"
      ]
    },
    {
      "cell_type": "code",
      "execution_count": null,
      "id": "a5c57517",
      "metadata": {
        "colab": {
          "base_uri": "https://localhost:8080/"
        },
        "id": "a5c57517",
        "outputId": "d7a10b6c-c9fa-49d0-912c-216f1181bf1e"
      },
      "outputs": [
        {
          "output_type": "execute_result",
          "data": {
            "text/plain": [
              "Index(['Exam 1 marks', 'Exam 2 marks', 'Admission status'], dtype='object')"
            ]
          },
          "metadata": {},
          "execution_count": 6
        }
      ],
      "source": [
        "df.columns"
      ]
    },
    {
      "cell_type": "code",
      "execution_count": null,
      "id": "b83b64fa",
      "metadata": {
        "colab": {
          "base_uri": "https://localhost:8080/"
        },
        "id": "b83b64fa",
        "outputId": "813e3184-8d1f-489b-c247-0edbaccc2389"
      },
      "outputs": [
        {
          "output_type": "execute_result",
          "data": {
            "text/plain": [
              "1    60\n",
              "0    40\n",
              "Name: Admission status, dtype: int64"
            ]
          },
          "metadata": {},
          "execution_count": 7
        }
      ],
      "source": [
        "#проверяем распределение столбца class\n",
        "df['Admission status'].value_counts()"
      ]
    },
    {
      "cell_type": "code",
      "execution_count": null,
      "id": "05c45f83",
      "metadata": {
        "colab": {
          "base_uri": "https://localhost:8080/"
        },
        "id": "05c45f83",
        "outputId": "b06c6721-3fc3-4928-99cf-93f6a97d51ef"
      },
      "outputs": [
        {
          "output_type": "execute_result",
          "data": {
            "text/plain": [
              "Exam 1 marks        0\n",
              "Exam 2 marks        0\n",
              "Admission status    0\n",
              "dtype: int64"
            ]
          },
          "metadata": {},
          "execution_count": 8
        }
      ],
      "source": [
        "df.isnull().sum()"
      ]
    },
    {
      "cell_type": "code",
      "execution_count": null,
      "id": "a0c99ee5",
      "metadata": {
        "colab": {
          "base_uri": "https://localhost:8080/",
          "height": 300
        },
        "id": "a0c99ee5",
        "outputId": "ce1fbf8e-ba48-467b-c486-5e24cc23d7f1"
      },
      "outputs": [
        {
          "output_type": "execute_result",
          "data": {
            "text/plain": [
              "       Exam 1 marks  Exam 2 marks  Admission status\n",
              "count        100.00        100.00            100.00\n",
              "mean          65.64         66.22              0.60\n",
              "std           19.46         18.58              0.49\n",
              "min           30.06         30.60              0.00\n",
              "25%           50.92         48.18              0.00\n",
              "50%           67.03         67.68              1.00\n",
              "75%           80.21         79.36              1.00\n",
              "max           99.83         98.87              1.00"
            ],
            "text/html": [
              "\n",
              "  <div id=\"df-6a85528f-e4d9-4f30-8cfb-928d9470b1d4\">\n",
              "    <div class=\"colab-df-container\">\n",
              "      <div>\n",
              "<style scoped>\n",
              "    .dataframe tbody tr th:only-of-type {\n",
              "        vertical-align: middle;\n",
              "    }\n",
              "\n",
              "    .dataframe tbody tr th {\n",
              "        vertical-align: top;\n",
              "    }\n",
              "\n",
              "    .dataframe thead th {\n",
              "        text-align: right;\n",
              "    }\n",
              "</style>\n",
              "<table border=\"1\" class=\"dataframe\">\n",
              "  <thead>\n",
              "    <tr style=\"text-align: right;\">\n",
              "      <th></th>\n",
              "      <th>Exam 1 marks</th>\n",
              "      <th>Exam 2 marks</th>\n",
              "      <th>Admission status</th>\n",
              "    </tr>\n",
              "  </thead>\n",
              "  <tbody>\n",
              "    <tr>\n",
              "      <th>count</th>\n",
              "      <td>100.00</td>\n",
              "      <td>100.00</td>\n",
              "      <td>100.00</td>\n",
              "    </tr>\n",
              "    <tr>\n",
              "      <th>mean</th>\n",
              "      <td>65.64</td>\n",
              "      <td>66.22</td>\n",
              "      <td>0.60</td>\n",
              "    </tr>\n",
              "    <tr>\n",
              "      <th>std</th>\n",
              "      <td>19.46</td>\n",
              "      <td>18.58</td>\n",
              "      <td>0.49</td>\n",
              "    </tr>\n",
              "    <tr>\n",
              "      <th>min</th>\n",
              "      <td>30.06</td>\n",
              "      <td>30.60</td>\n",
              "      <td>0.00</td>\n",
              "    </tr>\n",
              "    <tr>\n",
              "      <th>25%</th>\n",
              "      <td>50.92</td>\n",
              "      <td>48.18</td>\n",
              "      <td>0.00</td>\n",
              "    </tr>\n",
              "    <tr>\n",
              "      <th>50%</th>\n",
              "      <td>67.03</td>\n",
              "      <td>67.68</td>\n",
              "      <td>1.00</td>\n",
              "    </tr>\n",
              "    <tr>\n",
              "      <th>75%</th>\n",
              "      <td>80.21</td>\n",
              "      <td>79.36</td>\n",
              "      <td>1.00</td>\n",
              "    </tr>\n",
              "    <tr>\n",
              "      <th>max</th>\n",
              "      <td>99.83</td>\n",
              "      <td>98.87</td>\n",
              "      <td>1.00</td>\n",
              "    </tr>\n",
              "  </tbody>\n",
              "</table>\n",
              "</div>\n",
              "      <button class=\"colab-df-convert\" onclick=\"convertToInteractive('df-6a85528f-e4d9-4f30-8cfb-928d9470b1d4')\"\n",
              "              title=\"Convert this dataframe to an interactive table.\"\n",
              "              style=\"display:none;\">\n",
              "        \n",
              "  <svg xmlns=\"http://www.w3.org/2000/svg\" height=\"24px\"viewBox=\"0 0 24 24\"\n",
              "       width=\"24px\">\n",
              "    <path d=\"M0 0h24v24H0V0z\" fill=\"none\"/>\n",
              "    <path d=\"M18.56 5.44l.94 2.06.94-2.06 2.06-.94-2.06-.94-.94-2.06-.94 2.06-2.06.94zm-11 1L8.5 8.5l.94-2.06 2.06-.94-2.06-.94L8.5 2.5l-.94 2.06-2.06.94zm10 10l.94 2.06.94-2.06 2.06-.94-2.06-.94-.94-2.06-.94 2.06-2.06.94z\"/><path d=\"M17.41 7.96l-1.37-1.37c-.4-.4-.92-.59-1.43-.59-.52 0-1.04.2-1.43.59L10.3 9.45l-7.72 7.72c-.78.78-.78 2.05 0 2.83L4 21.41c.39.39.9.59 1.41.59.51 0 1.02-.2 1.41-.59l7.78-7.78 2.81-2.81c.8-.78.8-2.07 0-2.86zM5.41 20L4 18.59l7.72-7.72 1.47 1.35L5.41 20z\"/>\n",
              "  </svg>\n",
              "      </button>\n",
              "      \n",
              "  <style>\n",
              "    .colab-df-container {\n",
              "      display:flex;\n",
              "      flex-wrap:wrap;\n",
              "      gap: 12px;\n",
              "    }\n",
              "\n",
              "    .colab-df-convert {\n",
              "      background-color: #E8F0FE;\n",
              "      border: none;\n",
              "      border-radius: 50%;\n",
              "      cursor: pointer;\n",
              "      display: none;\n",
              "      fill: #1967D2;\n",
              "      height: 32px;\n",
              "      padding: 0 0 0 0;\n",
              "      width: 32px;\n",
              "    }\n",
              "\n",
              "    .colab-df-convert:hover {\n",
              "      background-color: #E2EBFA;\n",
              "      box-shadow: 0px 1px 2px rgba(60, 64, 67, 0.3), 0px 1px 3px 1px rgba(60, 64, 67, 0.15);\n",
              "      fill: #174EA6;\n",
              "    }\n",
              "\n",
              "    [theme=dark] .colab-df-convert {\n",
              "      background-color: #3B4455;\n",
              "      fill: #D2E3FC;\n",
              "    }\n",
              "\n",
              "    [theme=dark] .colab-df-convert:hover {\n",
              "      background-color: #434B5C;\n",
              "      box-shadow: 0px 1px 3px 1px rgba(0, 0, 0, 0.15);\n",
              "      filter: drop-shadow(0px 1px 2px rgba(0, 0, 0, 0.3));\n",
              "      fill: #FFFFFF;\n",
              "    }\n",
              "  </style>\n",
              "\n",
              "      <script>\n",
              "        const buttonEl =\n",
              "          document.querySelector('#df-6a85528f-e4d9-4f30-8cfb-928d9470b1d4 button.colab-df-convert');\n",
              "        buttonEl.style.display =\n",
              "          google.colab.kernel.accessAllowed ? 'block' : 'none';\n",
              "\n",
              "        async function convertToInteractive(key) {\n",
              "          const element = document.querySelector('#df-6a85528f-e4d9-4f30-8cfb-928d9470b1d4');\n",
              "          const dataTable =\n",
              "            await google.colab.kernel.invokeFunction('convertToInteractive',\n",
              "                                                     [key], {});\n",
              "          if (!dataTable) return;\n",
              "\n",
              "          const docLinkHtml = 'Like what you see? Visit the ' +\n",
              "            '<a target=\"_blank\" href=https://colab.research.google.com/notebooks/data_table.ipynb>data table notebook</a>'\n",
              "            + ' to learn more about interactive tables.';\n",
              "          element.innerHTML = '';\n",
              "          dataTable['output_type'] = 'display_data';\n",
              "          await google.colab.output.renderOutput(dataTable, element);\n",
              "          const docLink = document.createElement('div');\n",
              "          docLink.innerHTML = docLinkHtml;\n",
              "          element.appendChild(docLink);\n",
              "        }\n",
              "      </script>\n",
              "    </div>\n",
              "  </div>\n",
              "  "
            ]
          },
          "metadata": {},
          "execution_count": 9
        }
      ],
      "source": [
        "#просмотр сводной статистики в числовых переменных\n",
        "round(df.describe(),2)"
      ]
    },
    {
      "cell_type": "code",
      "execution_count": null,
      "id": "462fa889",
      "metadata": {
        "colab": {
          "base_uri": "https://localhost:8080/",
          "height": 768
        },
        "id": "462fa889",
        "outputId": "e740f65f-154c-4a19-bb75-4c4a626ab114"
      },
      "outputs": [
        {
          "output_type": "execute_result",
          "data": {
            "text/plain": [
              "Text(0, 0.5, 'Admission status')"
            ]
          },
          "metadata": {},
          "execution_count": 10
        },
        {
          "output_type": "display_data",
          "data": {
            "text/plain": [
              "<Figure size 1728x1440 with 3 Axes>"
            ],
            "image/png": "[encoded data removed]"
          },
          "metadata": {
            "needs_background": "light"
          }
        }
      ],
      "source": [
        "#нарисуум прямоугольные диаграммы для визуализации выбросов\n",
        "plt.figure(figsize=(24,20))\n",
        "\n",
        "\n",
        "plt.subplot(3, 2, 1)\n",
        "fig = df.boxplot(column='Exam 1 marks')\n",
        "fig.set_title('')\n",
        "fig.set_ylabel('Exam 1 marks')\n",
        "\n",
        "\n",
        "plt.subplot(3, 2, 2)\n",
        "fig = df.boxplot(column='Exam 2 marks')\n",
        "fig.set_title('')\n",
        "fig.set_ylabel('Exam 2 marks')\n",
        "\n",
        "\n",
        "plt.subplot(3, 2, 3)\n",
        "fig = df.boxplot(column='Admission status')\n",
        "fig.set_title('')\n",
        "fig.set_ylabel('Admission status')\n",
        "\n",
        "\n",
        "# plt.subplot(6, 2, 4)\n",
        "# fig = df.boxplot(column='Mg')\n",
        "# fig.set_title('')\n",
        "# fig.set_ylabel('Mg')\n",
        "\n",
        "\n",
        "# plt.subplot(6, 2, 5)\n",
        "# fig = df.boxplot(column='Al')\n",
        "# fig.set_title('')\n",
        "# fig.set_ylabel('Al')\n",
        "\n",
        "\n",
        "# plt.subplot(6, 2, 6)\n",
        "# fig = df.boxplot(column='Si')\n",
        "# fig.set_title('')\n",
        "# fig.set_ylabel('Si')\n",
        "\n",
        "\n",
        "# plt.subplot(6, 2, 7)\n",
        "# fig = df.boxplot(column='K')\n",
        "# fig.set_title('')\n",
        "# fig.set_ylabel('K')\n",
        "\n",
        "\n",
        "# plt.subplot(6, 2, 8)\n",
        "# fig = df.boxplot(column='Ca')\n",
        "# fig.set_title('')\n",
        "# fig.set_ylabel('Ca')\n",
        "\n",
        "# plt.subplot(6, 2, 9)\n",
        "# fig = df.boxplot(column='Ba')\n",
        "# fig.set_title('')\n",
        "# fig.set_ylabel('Ba')\n",
        "\n",
        "# plt.subplot(6, 2, 10)\n",
        "# fig = df.boxplot(column='Fe')\n",
        "# fig.set_title('')\n",
        "# fig.set_ylabel('Fe')\n",
        "\n",
        "# plt.subplot(6, 2, 11)\n",
        "# fig = df.boxplot(column='classes')\n",
        "# fig.set_title('')\n",
        "# fig.set_ylabel('classes')"
      ]
    },
    {
      "cell_type": "code",
      "execution_count": null,
      "id": "46033e33",
      "metadata": {
        "colab": {
          "base_uri": "https://localhost:8080/",
          "height": 782
        },
        "id": "46033e33",
        "outputId": "a5623687-12cb-466b-8ef4-ba27deb69e69"
      },
      "outputs": [
        {
          "output_type": "execute_result",
          "data": {
            "text/plain": [
              "Text(0, 0.5, 'Values')"
            ]
          },
          "metadata": {},
          "execution_count": 11
        },
        {
          "output_type": "display_data",
          "data": {
            "text/plain": [
              "<Figure size 1728x1440 with 3 Axes>"
            ],
            "image/png": "[encoded data removed]"
          },
          "metadata": {
            "needs_background": "light"
          }
        }
      ],
      "source": [
        "plt.figure(figsize=(24,20))\n",
        "\n",
        "\n",
        "plt.subplot(3, 2, 1)\n",
        "fig = df['Exam 1 marks'].hist(bins=20)\n",
        "fig.set_xlabel('Exam 1 marks')\n",
        "fig.set_ylabel('Values')\n",
        "\n",
        "\n",
        "plt.subplot(3, 2, 2)\n",
        "fig = df['Exam 2 marks'].hist(bins=20)\n",
        "fig.set_xlabel('Exam 2 marks')\n",
        "fig.set_ylabel('Values')\n",
        "\n",
        "\n",
        "plt.subplot(3, 2, 3)\n",
        "fig = df['Admission status'].hist(bins=20)\n",
        "fig.set_xlabel('Admission status')\n",
        "fig.set_ylabel('Values')\n",
        "\n",
        "\n",
        "# plt.subplot(6, 2, 4)\n",
        "# fig = df['Mg'].hist(bins=20)\n",
        "# fig.set_xlabel('Mg')\n",
        "# fig.set_ylabel('Values')\n",
        "\n",
        "\n",
        "# plt.subplot(6, 2, 5)\n",
        "# fig = df['Al'].hist(bins=20)\n",
        "# fig.set_xlabel('Al')\n",
        "# fig.set_ylabel('Values')\n",
        "\n",
        "\n",
        "# plt.subplot(6, 2, 6)\n",
        "# fig = df['Si'].hist(bins=20)\n",
        "# fig.set_xlabel('Si')\n",
        "# fig.set_ylabel('Values')\n",
        "\n",
        "\n",
        "# plt.subplot(6, 2, 7)\n",
        "# fig = df['K'].hist(bins=20)\n",
        "# fig.set_xlabel('K')\n",
        "# fig.set_ylabel('Values')\n",
        "\n",
        "\n",
        "# plt.subplot(6, 2, 8)\n",
        "# fig = df['Ca'].hist(bins=20)\n",
        "# fig.set_xlabel('Ca')\n",
        "# fig.set_ylabel('Values')\n",
        "\n",
        "# plt.subplot(6, 2, 9)\n",
        "# fig = df['Ba'].hist(bins=20)\n",
        "# fig.set_xlabel('Ba')\n",
        "# fig.set_ylabel('Values')\n",
        "\n",
        "# plt.subplot(6, 2, 10)\n",
        "# fig = df['Fe'].hist(bins=20)\n",
        "# fig.set_xlabel('Fe')\n",
        "# fig.set_ylabel('Values')\n",
        "\n",
        "# plt.subplot(6, 2, 11)\n",
        "# fig = df['classes'].hist(bins=20)\n",
        "# fig.set_xlabel('classes')\n",
        "# fig.set_ylabel('Values')"
      ]
    },
    {
      "cell_type": "code",
      "execution_count": null,
      "id": "0bc9e562",
      "metadata": {
        "colab": {
          "base_uri": "https://localhost:8080/"
        },
        "id": "0bc9e562",
        "outputId": "cd9b6caa-84d8-4880-c828-accc83a923a8"
      },
      "outputs": [
        {
          "output_type": "execute_result",
          "data": {
            "text/plain": [
              "((80, 2), (20, 2))"
            ]
          },
          "metadata": {},
          "execution_count": 12
        }
      ],
      "source": [
        "#Объявляем вектор объектов и целевую переменную\n",
        "X = df.drop(['Admission status'], axis=1)\n",
        "\n",
        "y = df['Admission status']\n",
        "\n",
        "#разделим X и y на обучающие и тестовые наборы\n",
        "from sklearn.model_selection import train_test_split\n",
        "X_train, X_test, y_train, y_test = train_test_split(X, y, test_size = 0.2, random_state = 0)\n",
        "\n",
        "#проверим форму X_train и X_test\n",
        "X_train.shape, X_test.shape"
      ]
    },
    {
      "cell_type": "code",
      "execution_count": null,
      "id": "74b15477",
      "metadata": {
        "colab": {
          "base_uri": "https://localhost:8080/",
          "height": 300
        },
        "id": "74b15477",
        "outputId": "a80fff27-797f-44b7-9bae-75a41e6ec046"
      },
      "outputs": [
        {
          "output_type": "execute_result",
          "data": {
            "text/plain": [
              "       Exam 1 marks  Exam 2 marks\n",
              "count  8.000000e+01  8.000000e+01\n",
              "mean  -6.661338e-17  2.553513e-16\n",
              "std    1.006309e+00  1.006309e+00\n",
              "min   -1.819123e+00 -1.924090e+00\n",
              "25%   -7.476022e-01 -1.032450e+00\n",
              "50%    5.102202e-02  3.988464e-02\n",
              "75%    7.983973e-01  9.908210e-01\n",
              "max    1.654467e+00  1.691773e+00"
            ],
            "text/html": [
              "\n",
              "  <div id=\"df-34d0e11c-3625-40a3-af88-fef67328f4bf\">\n",
              "    <div class=\"colab-df-container\">\n",
              "      <div>\n",
              "<style scoped>\n",
              "    .dataframe tbody tr th:only-of-type {\n",
              "        vertical-align: middle;\n",
              "    }\n",
              "\n",
              "    .dataframe tbody tr th {\n",
              "        vertical-align: top;\n",
              "    }\n",
              "\n",
              "    .dataframe thead tr th {\n",
              "        text-align: left;\n",
              "    }\n",
              "</style>\n",
              "<table border=\"1\" class=\"dataframe\">\n",
              "  <thead>\n",
              "    <tr>\n",
              "      <th></th>\n",
              "      <th>Exam 1 marks</th>\n",
              "      <th>Exam 2 marks</th>\n",
              "    </tr>\n",
              "  </thead>\n",
              "  <tbody>\n",
              "    <tr>\n",
              "      <th>count</th>\n",
              "      <td>8.000000e+01</td>\n",
              "      <td>8.000000e+01</td>\n",
              "    </tr>\n",
              "    <tr>\n",
              "      <th>mean</th>\n",
              "      <td>-6.661338e-17</td>\n",
              "      <td>2.553513e-16</td>\n",
              "    </tr>\n",
              "    <tr>\n",
              "      <th>std</th>\n",
              "      <td>1.006309e+00</td>\n",
              "      <td>1.006309e+00</td>\n",
              "    </tr>\n",
              "    <tr>\n",
              "      <th>min</th>\n",
              "      <td>-1.819123e+00</td>\n",
              "      <td>-1.924090e+00</td>\n",
              "    </tr>\n",
              "    <tr>\n",
              "      <th>25%</th>\n",
              "      <td>-7.476022e-01</td>\n",
              "      <td>-1.032450e+00</td>\n",
              "    </tr>\n",
              "    <tr>\n",
              "      <th>50%</th>\n",
              "      <td>5.102202e-02</td>\n",
              "      <td>3.988464e-02</td>\n",
              "    </tr>\n",
              "    <tr>\n",
              "      <th>75%</th>\n",
              "      <td>7.983973e-01</td>\n",
              "      <td>9.908210e-01</td>\n",
              "    </tr>\n",
              "    <tr>\n",
              "      <th>max</th>\n",
              "      <td>1.654467e+00</td>\n",
              "      <td>1.691773e+00</td>\n",
              "    </tr>\n",
              "  </tbody>\n",
              "</table>\n",
              "</div>\n",
              "      <button class=\"colab-df-convert\" onclick=\"convertToInteractive('df-34d0e11c-3625-40a3-af88-fef67328f4bf')\"\n",
              "              title=\"Convert this dataframe to an interactive table.\"\n",
              "              style=\"display:none;\">\n",
              "        \n",
              "  <svg xmlns=\"http://www.w3.org/2000/svg\" height=\"24px\"viewBox=\"0 0 24 24\"\n",
              "       width=\"24px\">\n",
              "    <path d=\"M0 0h24v24H0V0z\" fill=\"none\"/>\n",
              "    <path d=\"M18.56 5.44l.94 2.06.94-2.06 2.06-.94-2.06-.94-.94-2.06-.94 2.06-2.06.94zm-11 1L8.5 8.5l.94-2.06 2.06-.94-2.06-.94L8.5 2.5l-.94 2.06-2.06.94zm10 10l.94 2.06.94-2.06 2.06-.94-2.06-.94-.94-2.06-.94 2.06-2.06.94z\"/><path d=\"M17.41 7.96l-1.37-1.37c-.4-.4-.92-.59-1.43-.59-.52 0-1.04.2-1.43.59L10.3 9.45l-7.72 7.72c-.78.78-.78 2.05 0 2.83L4 21.41c.39.39.9.59 1.41.59.51 0 1.02-.2 1.41-.59l7.78-7.78 2.81-2.81c.8-.78.8-2.07 0-2.86zM5.41 20L4 18.59l7.72-7.72 1.47 1.35L5.41 20z\"/>\n",
              "  </svg>\n",
              "      </button>\n",
              "      \n",
              "  <style>\n",
              "    .colab-df-container {\n",
              "      display:flex;\n",
              "      flex-wrap:wrap;\n",
              "      gap: 12px;\n",
              "    }\n",
              "\n",
              "    .colab-df-convert {\n",
              "      background-color: #E8F0FE;\n",
              "      border: none;\n",
              "      border-radius: 50%;\n",
              "      cursor: pointer;\n",
              "      display: none;\n",
              "      fill: #1967D2;\n",
              "      height: 32px;\n",
              "      padding: 0 0 0 0;\n",
              "      width: 32px;\n",
              "    }\n",
              "\n",
              "    .colab-df-convert:hover {\n",
              "      background-color: #E2EBFA;\n",
              "      box-shadow: 0px 1px 2px rgba(60, 64, 67, 0.3), 0px 1px 3px 1px rgba(60, 64, 67, 0.15);\n",
              "      fill: #174EA6;\n",
              "    }\n",
              "\n",
              "    [theme=dark] .colab-df-convert {\n",
              "      background-color: #3B4455;\n",
              "      fill: #D2E3FC;\n",
              "    }\n",
              "\n",
              "    [theme=dark] .colab-df-convert:hover {\n",
              "      background-color: #434B5C;\n",
              "      box-shadow: 0px 1px 3px 1px rgba(0, 0, 0, 0.15);\n",
              "      filter: drop-shadow(0px 1px 2px rgba(0, 0, 0, 0.3));\n",
              "      fill: #FFFFFF;\n",
              "    }\n",
              "  </style>\n",
              "\n",
              "      <script>\n",
              "        const buttonEl =\n",
              "          document.querySelector('#df-34d0e11c-3625-40a3-af88-fef67328f4bf button.colab-df-convert');\n",
              "        buttonEl.style.display =\n",
              "          google.colab.kernel.accessAllowed ? 'block' : 'none';\n",
              "\n",
              "        async function convertToInteractive(key) {\n",
              "          const element = document.querySelector('#df-34d0e11c-3625-40a3-af88-fef67328f4bf');\n",
              "          const dataTable =\n",
              "            await google.colab.kernel.invokeFunction('convertToInteractive',\n",
              "                                                     [key], {});\n",
              "          if (!dataTable) return;\n",
              "\n",
              "          const docLinkHtml = 'Like what you see? Visit the ' +\n",
              "            '<a target=\"_blank\" href=https://colab.research.google.com/notebooks/data_table.ipynb>data table notebook</a>'\n",
              "            + ' to learn more about interactive tables.';\n",
              "          element.innerHTML = '';\n",
              "          dataTable['output_type'] = 'display_data';\n",
              "          await google.colab.output.renderOutput(dataTable, element);\n",
              "          const docLink = document.createElement('div');\n",
              "          docLink.innerHTML = docLinkHtml;\n",
              "          element.appendChild(docLink);\n",
              "        }\n",
              "      </script>\n",
              "    </div>\n",
              "  </div>\n",
              "  "
            ]
          },
          "metadata": {},
          "execution_count": 13
        }
      ],
      "source": [
        "#Масштабирование объектов\n",
        "cols = X_train.columns\n",
        "\n",
        "from sklearn.preprocessing import StandardScaler\n",
        "\n",
        "scaler = StandardScaler()\n",
        "\n",
        "X_train = scaler.fit_transform(X_train)\n",
        "\n",
        "X_test = scaler.transform(X_test)\n",
        "\n",
        "X_train = pd.DataFrame(X_train, columns=[cols])\n",
        "\n",
        "X_test = pd.DataFrame(X_test, columns=[cols])\n",
        "\n",
        "X_train.describe()"
      ]
    },
    {
      "cell_type": "code",
      "execution_count": null,
      "id": "ceea8b89",
      "metadata": {
        "colab": {
          "base_uri": "https://localhost:8080/"
        },
        "id": "ceea8b89",
        "outputId": "7f427ffd-4796-4984-825c-b92459c95587"
      },
      "outputs": [
        {
          "output_type": "stream",
          "name": "stdout",
          "text": [
            "Оценка точности модели с использованием гиперпараметров по умолчанию: 0.8000\n"
          ]
        }
      ],
      "source": [
        "#Теперь у нас есть набор данных X_train, готовый для загрузки в классификатор логистической регрессии. Я сделаю это следующим образом.\n",
        "#импорт классификатора SVC\n",
        "from sklearn.svm import SVC\n",
        "\n",
        "#импортируем показатели для вычисления точности\n",
        "from sklearn.metrics import accuracy_score\n",
        "\n",
        "#создать экземпляр классификатора с гиперпараметрами по умолчанию\n",
        "svc=SVC() \n",
        "\n",
        "#подогнать классификатор к тренировочному набору\n",
        "svc.fit(X_train,y_train)\n",
        "\n",
        "#делаем прогнозы на тестовом наборе\n",
        "y_pred=svc.predict(X_test)\n",
        "\n",
        "print('Оценка точности модели с использованием гиперпараметров по умолчанию: {0:0.4f}'. format(accuracy_score(y_test, y_pred)))"
      ]
    },
    {
      "cell_type": "code",
      "execution_count": null,
      "id": "2f643c44",
      "metadata": {
        "colab": {
          "base_uri": "https://localhost:8080/"
        },
        "id": "2f643c44",
        "outputId": "d1ee36c7-d88d-41e9-daf3-8a1e33a953e6"
      },
      "outputs": [
        {
          "output_type": "stream",
          "name": "stdout",
          "text": [
            "Оценка точности модели с использованием ядра RBF и С=100.0 : 0.900000000\n"
          ]
        }
      ],
      "source": [
        "#SVM с ядром RBF и C=100.0\n",
        "#Итак, мы должны увеличить значение C, поскольку чем выше C, тем меньше выбросов.\n",
        "svc=SVC(C=100.0) \n",
        "\n",
        "svc.fit(X_train,y_train)\n",
        "\n",
        "y_pred=svc.predict(X_test)\n",
        "\n",
        "print('Оценка точности модели с использованием ядра RBF и С=100.0 : {0:0.9f}'. format(accuracy_score(y_test, y_pred)))"
      ]
    },
    {
      "cell_type": "code",
      "execution_count": null,
      "id": "71d41690",
      "metadata": {
        "colab": {
          "base_uri": "https://localhost:8080/"
        },
        "id": "71d41690",
        "outputId": "594cf39e-7903-4ea9-f76e-4f4a55a8bf74"
      },
      "outputs": [
        {
          "output_type": "stream",
          "name": "stdout",
          "text": [
            "Оценка точности модели с использованием ядра RBF и С=1000.0 : 0.950000000\n"
          ]
        }
      ],
      "source": [
        "#SVM с ядром RBF и C=1000.0\n",
        "svc=SVC(C=1000.0) \n",
        "\n",
        "svc.fit(X_train,y_train)\n",
        "\n",
        "y_pred=svc.predict(X_test)\n",
        "\n",
        "print('Оценка точности модели с использованием ядра RBF и С=1000.0 : {0:0.9f}'. format(accuracy_score(y_test, y_pred)))"
      ]
    },
    {
      "cell_type": "code",
      "execution_count": null,
      "id": "232292aa",
      "metadata": {
        "colab": {
          "base_uri": "https://localhost:8080/"
        },
        "id": "232292aa",
        "outputId": "a9fb75f1-1a7a-447e-b149-550a01e193de"
      },
      "outputs": [
        {
          "output_type": "stream",
          "name": "stdout",
          "text": [
            "Оценка точности модели с использованием ядра RBF и С=10000.0 : 0.950000000\n"
          ]
        }
      ],
      "source": [
        "#SVM с ядром RBF и C=10000.0\n",
        "svc=SVC(C=10000.0) \n",
        "\n",
        "svc.fit(X_train,y_train)\n",
        "\n",
        "y_pred=svc.predict(X_test)\n",
        "\n",
        "print('Оценка точности модели с использованием ядра RBF и С=10000.0 : {0:0.9f}'. format(accuracy_score(y_test, y_pred)))"
      ]
    },
    {
      "cell_type": "code",
      "execution_count": null,
      "id": "d48c11a9",
      "metadata": {
        "colab": {
          "base_uri": "https://localhost:8080/"
        },
        "id": "d48c11a9",
        "outputId": "f00dccae-e73e-4c8f-89f7-46aef7526121"
      },
      "outputs": [
        {
          "output_type": "stream",
          "name": "stdout",
          "text": [
            "Тренировочный: 1.0000\n",
            "Тестовый: 0.9500\n"
          ]
        }
      ],
      "source": [
        "#Вывод результатов по тренировочному и тестовому наборам\n",
        "print('Тренировочный: {:.4f}'.format(svc.score(X_train, y_train)))\n",
        "\n",
        "print('Тестовый: {:.4f}'.format(svc.score(X_test, y_test)))"
      ]
    },
    {
      "cell_type": "code",
      "execution_count": null,
      "id": "36e61181",
      "metadata": {
        "colab": {
          "base_uri": "https://localhost:8080/"
        },
        "id": "36e61181",
        "outputId": "d29a2dfa-1e09-4040-e34e-4e0513607be9"
      },
      "outputs": [
        {
          "output_type": "stream",
          "name": "stdout",
          "text": [
            "Оценка точности модели с использованием ядра Linear и С=100.0 : 0.850000\n"
          ]
        }
      ],
      "source": [
        "#SVM с ядром linear и C=100.0\n",
        "linear_svc=SVC(kernel='linear', C=100.0) \n",
        "\n",
        "linear_svc.fit(X_train,y_train)\n",
        "\n",
        "y_pred_test=linear_svc.predict(X_test)\n",
        "\n",
        "print('Оценка точности модели с использованием ядра Linear и С=100.0 : {0:0.6f}'. format(accuracy_score(y_test, y_pred_test)))"
      ]
    },
    {
      "cell_type": "code",
      "execution_count": null,
      "id": "716c83bc",
      "metadata": {
        "colab": {
          "base_uri": "https://localhost:8080/"
        },
        "id": "716c83bc",
        "outputId": "4e6d7b34-5ab5-471b-de01-7cf81fdca972"
      },
      "outputs": [
        {
          "output_type": "stream",
          "name": "stdout",
          "text": [
            "Оценка точности модели с использованием ядра Linear и С=1000.0 : 0.800000\n"
          ]
        }
      ],
      "source": [
        "#SVM с ядром linear и C=100.0\n",
        "linear_svc=SVC(kernel='linear', C=1000.0) \n",
        "\n",
        "linear_svc.fit(X_train,y_train)\n",
        "\n",
        "y_pred_test=linear_svc.predict(X_test)\n",
        "\n",
        "print('Оценка точности модели с использованием ядра Linear и С=1000.0 : {0:0.6f}'. format(accuracy_score(y_test, y_pred_test)))"
      ]
    },
    {
      "cell_type": "code",
      "execution_count": null,
      "id": "34b4f6e3",
      "metadata": {
        "colab": {
          "base_uri": "https://localhost:8080/"
        },
        "id": "34b4f6e3",
        "outputId": "fb7bc2ee-9460-4875-af62-b006b704f1eb"
      },
      "outputs": [
        {
          "output_type": "stream",
          "name": "stdout",
          "text": [
            "Оценка точности модели с использованием ядра Linear и С=10.0 : 0.850000\n"
          ]
        }
      ],
      "source": [
        "#SVM с ядром linear и C=10.0\n",
        "linear_svc=SVC(kernel='linear', C=10.0) \n",
        "\n",
        "linear_svc.fit(X_train,y_train)\n",
        "\n",
        "y_pred_test=linear_svc.predict(X_test)\n",
        "\n",
        "print('Оценка точности модели с использованием ядра Linear и С=10.0 : {0:0.6f}'. format(accuracy_score(y_test, y_pred_test)))"
      ]
    },
    {
      "cell_type": "code",
      "execution_count": null,
      "id": "97587c4c",
      "metadata": {
        "colab": {
          "base_uri": "https://localhost:8080/"
        },
        "id": "97587c4c",
        "outputId": "a32892f7-137d-43d3-dc1e-341a760d0dc6"
      },
      "outputs": [
        {
          "output_type": "execute_result",
          "data": {
            "text/plain": [
              "array([0, 0, 1, 1, 0, 1, 1, 1, 1, 1, 1, 1, 1, 1, 1, 1, 1, 1, 0, 1, 0, 0,\n",
              "       1, 0, 1, 1, 0, 1, 0, 0, 1, 1, 0, 0, 0, 1, 0, 0, 0, 1, 1, 1, 1, 1,\n",
              "       0, 1, 0, 1, 0, 0, 0, 0, 1, 1, 0, 1, 0, 1, 1, 1, 1, 1, 1, 1, 0, 0,\n",
              "       1, 1, 1, 0, 1, 1, 1, 0, 1, 1, 0, 0, 1, 0])"
            ]
          },
          "metadata": {},
          "execution_count": 22
        }
      ],
      "source": [
        "#Здесь y_test - это истинные метки классов, а y_pred - это предсказанные метки классов в тестовом наборе.\n",
        "y_pred_train = linear_svc.predict(X_train)\n",
        "\n",
        "y_pred_train"
      ]
    },
    {
      "cell_type": "code",
      "execution_count": null,
      "id": "38aa4639",
      "metadata": {
        "colab": {
          "base_uri": "https://localhost:8080/"
        },
        "id": "38aa4639",
        "outputId": "c343fd03-001e-4a8e-aeba-8da45ad8957b"
      },
      "outputs": [
        {
          "output_type": "stream",
          "name": "stdout",
          "text": [
            "Тренировочный: 0.9125\n",
            "Тестовый: 0.8500\n"
          ]
        }
      ],
      "source": [
        "#Вывод результатов по тренировочному и тестовому наборам\n",
        "print('Тренировочный: {:.4f}'.format(linear_svc.score(X_train, y_train)))\n",
        "\n",
        "print('Тестовый: {:.4f}'.format(linear_svc.score(X_test, y_test)))"
      ]
    },
    {
      "cell_type": "code",
      "execution_count": null,
      "id": "04472ec7",
      "metadata": {
        "colab": {
          "base_uri": "https://localhost:8080/"
        },
        "id": "04472ec7",
        "outputId": "9364f234-dd33-4976-fe1d-93b174038697"
      },
      "outputs": [
        {
          "output_type": "stream",
          "name": "stdout",
          "text": [
            "Оценка точности модели с использованием ядра Polynomial и С=1.0 : 0.8500\n"
          ]
        }
      ],
      "source": [
        "#SVM с ядром Polynomial  и C=1.0\n",
        "poly_svc=SVC(kernel='poly', C=1.0) \n",
        "\n",
        "poly_svc.fit(X_train, y_train)\n",
        "\n",
        "y_pred=poly_svc.predict(X_test)\n",
        "\n",
        "print('Оценка точности модели с использованием ядра Polynomial и С=1.0 : {0:0.4f}'. format(accuracy_score(y_test, y_pred)))"
      ]
    },
    {
      "cell_type": "code",
      "execution_count": null,
      "id": "25712df5",
      "metadata": {
        "colab": {
          "base_uri": "https://localhost:8080/"
        },
        "id": "25712df5",
        "outputId": "b903dec6-7268-41c2-826b-1ab8bcb9acfe"
      },
      "outputs": [
        {
          "output_type": "stream",
          "name": "stdout",
          "text": [
            "Оценка точности модели с использованием ядра Polynomial и С=100.0 : 0.9000\n"
          ]
        }
      ],
      "source": [
        "#SVM с ядром Polynomial  и C=100.0\n",
        "poly_svc=SVC(kernel='poly', C=100.0) \n",
        "\n",
        "poly_svc.fit(X_train, y_train)\n",
        "\n",
        "y_pred=poly_svc.predict(X_test)\n",
        "\n",
        "print('Оценка точности модели с использованием ядра Polynomial и С=100.0 : {0:0.4f}'. format(accuracy_score(y_test, y_pred)))"
      ]
    },
    {
      "cell_type": "code",
      "execution_count": null,
      "id": "263fab3f",
      "metadata": {
        "colab": {
          "base_uri": "https://localhost:8080/"
        },
        "id": "263fab3f",
        "outputId": "baf2ed7d-5fc7-4090-ceeb-093842ab7d49"
      },
      "outputs": [
        {
          "output_type": "stream",
          "name": "stdout",
          "text": [
            "Тренировочный: 0.9250\n",
            "Тестовый: 0.9000\n"
          ]
        }
      ],
      "source": [
        "#Вывод результатов по тренировочному и тестовому наборам\n",
        "print('Тренировочный: {:.4f}'.format(poly_svc.score(X_train, y_train)))\n",
        "\n",
        "print('Тестовый: {:.4f}'.format(poly_svc.score(X_test, y_test)))"
      ]
    },
    {
      "cell_type": "code",
      "execution_count": null,
      "id": "2ffa2927",
      "metadata": {
        "colab": {
          "base_uri": "https://localhost:8080/"
        },
        "id": "2ffa2927",
        "outputId": "70868ed4-41a7-419f-8461-a261a8036dc9"
      },
      "outputs": [
        {
          "output_type": "stream",
          "name": "stdout",
          "text": [
            "Оценка точности модели с использованием ядра Sigmoid и С=1.0 : 0.8500\n"
          ]
        }
      ],
      "source": [
        "#SVM с ядром Sigmoid  и C=1.0\n",
        "sigmoid_svc=SVC(kernel='sigmoid', C=1.0) \n",
        "\n",
        "sigmoid_svc.fit(X_train,y_train)\n",
        "\n",
        "y_pred=sigmoid_svc.predict(X_test)\n",
        "\n",
        "print('Оценка точности модели с использованием ядра Sigmoid и С=1.0 : {0:0.4f}'. format(accuracy_score(y_test, y_pred)))"
      ]
    },
    {
      "cell_type": "code",
      "execution_count": null,
      "id": "613ee3aa",
      "metadata": {
        "colab": {
          "base_uri": "https://localhost:8080/"
        },
        "id": "613ee3aa",
        "outputId": "73a9ff01-040a-45ff-a494-0e3c0bb30ae4"
      },
      "outputs": [
        {
          "output_type": "stream",
          "name": "stdout",
          "text": [
            "Оценка точности модели с использованием ядра Sigmoid и С=100.0 : 0.8500\n"
          ]
        }
      ],
      "source": [
        "#SVM с ядром Sigmoid  и C=100.0\n",
        "sigmoid_svc=SVC(kernel='sigmoid', C=100.0) \n",
        "\n",
        "sigmoid_svc.fit(X_train,y_train)\n",
        "\n",
        "y_pred=sigmoid_svc.predict(X_test)\n",
        "\n",
        "print('Оценка точности модели с использованием ядра Sigmoid и С=100.0 : {0:0.4f}'. format(accuracy_score(y_test, y_pred)))"
      ]
    },
    {
      "cell_type": "code",
      "execution_count": null,
      "id": "9315b713",
      "metadata": {
        "colab": {
          "base_uri": "https://localhost:8080/"
        },
        "id": "9315b713",
        "outputId": "5863b087-a3f1-48af-9725-fb00d95bd3e7"
      },
      "outputs": [
        {
          "output_type": "stream",
          "name": "stdout",
          "text": [
            "Оценка точности тренировочного набора: 0.9125\n"
          ]
        }
      ],
      "source": [
        "print('Оценка точности тренировочного набора: {0:0.4f}'. format(accuracy_score(y_train, y_pred_train)))"
      ]
    },
    {
      "cell_type": "code",
      "execution_count": null,
      "id": "bc203704",
      "metadata": {
        "colab": {
          "base_uri": "https://localhost:8080/"
        },
        "id": "bc203704",
        "outputId": "de39d886-3393-4bb2-ebef-c9364bcdabaf"
      },
      "outputs": [
        {
          "output_type": "stream",
          "name": "stdout",
          "text": [
            "Тренировочный: 0.8250\n",
            "Тестовый: 0.8500\n"
          ]
        }
      ],
      "source": [
        "#Мы можем видеть, что сигмовидное ядро также работает плохо, как и в случае с полиномиальным ядром.\n",
        "#Вывод результатов по тренировочному и тестовому наборам\n",
        "print('Тренировочный: {:.4f}'.format(sigmoid_svc.score(X_train, y_train)))\n",
        "\n",
        "print('Тестовый: {:.4f}'.format(sigmoid_svc.score(X_test, y_test)))"
      ]
    },
    {
      "cell_type": "code",
      "execution_count": null,
      "id": "f0042703",
      "metadata": {
        "colab": {
          "base_uri": "https://localhost:8080/"
        },
        "id": "f0042703",
        "outputId": "a02afd6e-39e9-4981-9be5-dd9dfd411e17"
      },
      "outputs": [
        {
          "output_type": "stream",
          "name": "stdout",
          "text": [
            "              precision    recall  f1-score   support\n",
            "\n",
            "           0       0.73      1.00      0.84         8\n",
            "           1       1.00      0.75      0.86        12\n",
            "\n",
            "    accuracy                           0.85        20\n",
            "   macro avg       0.86      0.88      0.85        20\n",
            "weighted avg       0.89      0.85      0.85        20\n",
            "\n"
          ]
        }
      ],
      "source": [
        "#Отчет о классификации¶\n",
        "#Отчет о классификации - это еще один способ оценить эффективность модели классификации. \n",
        "#В нем отображаются показатели точности, Recall, f1 и поддержки для модели.\n",
        "from sklearn.metrics import classification_report\n",
        "\n",
        "print(classification_report(y_test, y_pred_test))"
      ]
    },
    {
      "cell_type": "code",
      "execution_count": null,
      "id": "109a8548",
      "metadata": {
        "colab": {
          "base_uri": "https://localhost:8080/"
        },
        "id": "109a8548",
        "outputId": "eff4c520-bf9b-41d8-9c22-1c71b9f8df80"
      },
      "outputs": [
        {
          "output_type": "stream",
          "name": "stdout",
          "text": [
            "Confusion matrix\n",
            "\n",
            " [[8 0]\n",
            " [3 9]]\n",
            "\n",
            "True Positives(TP) =  8\n",
            "\n",
            "True Negatives(TN) =  9\n",
            "\n",
            "False Positives(FP) =  0\n",
            "\n",
            "False Negatives(FN) =  3\n",
            "\n",
            "Точность классификации : 0.8500\n",
            "Ошибка классификации : 0.1500\n",
            "\n",
            "Precision : 1.0000\n",
            "Recall : 0.7273\n",
            "F1: 0.8421\n"
          ]
        }
      ],
      "source": [
        "#Точность классификации\n",
        "from sklearn.metrics import confusion_matrix\n",
        "cm = confusion_matrix(y_test, y_pred_test)\n",
        "print('Confusion matrix\\n\\n', cm)\n",
        "\n",
        "print('\\nTrue Positives(TP) = ', cm[0,0])\n",
        "\n",
        "print('\\nTrue Negatives(TN) = ', cm[1,1])\n",
        "\n",
        "print('\\nFalse Positives(FP) = ', cm[0,1])\n",
        "\n",
        "print('\\nFalse Negatives(FN) = ', cm[1,0])\n",
        "\n",
        "\n",
        "TP = cm[0,0]\n",
        "TN = cm[1,1]\n",
        "FP = cm[0,1]\n",
        "FN = cm[1,0]\n",
        "\n",
        "classification_accuracy = (TP + TN) / float(TP + TN + FP + FN)\n",
        "\n",
        "print('\\nТочность классификации : {0:0.4f}'.format(classification_accuracy))\n",
        "\n",
        "#Ошибка классификации\n",
        "classification_error = (FP + FN) / float(TP + TN + FP + FN)\n",
        "\n",
        "print('Ошибка классификации : {0:0.4f}'.format(classification_error))\n",
        "\n",
        "#вывод оценки точности\n",
        "precision = TP / float(TP + FP)\n",
        "\n",
        "print('\\nPrecision : {0:0.4f}'.format(precision))\n",
        "\n",
        "recall = TP / float(TP + FN)\n",
        "\n",
        "print('Recall : {0:0.4f}'.format(recall))\n",
        "\n",
        "F1 = 2 * (precision * recall) / (precision + recall)\n",
        "\n",
        "print('F1: {0:0.4f}'.format(F1))"
      ]
    },
    {
      "cell_type": "code",
      "execution_count": null,
      "id": "f172f3b1",
      "metadata": {
        "colab": {
          "base_uri": "https://localhost:8080/"
        },
        "id": "f172f3b1",
        "outputId": "24029774-9384-435d-8635-568f394baad0"
      },
      "outputs": [
        {
          "output_type": "execute_result",
          "data": {
            "text/plain": [
              "GridSearchCV(cv=5, estimator=SVC(),\n",
              "             param_grid=[{'C': [1, 10, 100, 1000], 'kernel': ['linear']},\n",
              "                         {'C': [1, 10, 100, 1000],\n",
              "                          'gamma': [0.1, 0.2, 0.3, 0.4, 0.5, 0.6, 0.7, 0.8,\n",
              "                                    0.9],\n",
              "                          'kernel': ['rbf']},\n",
              "                         {'C': [1, 10, 100, 1000], 'degree': [2, 3, 4],\n",
              "                          'gamma': [0.01, 0.02, 0.03, 0.04, 0.05],\n",
              "                          'kernel': ['poly']}],\n",
              "             scoring='accuracy')"
            ]
          },
          "metadata": {},
          "execution_count": 33
        }
      ],
      "source": [
        "#Оптимизация гиперпараметров с использованием GridSearchCV\n",
        "from sklearn.model_selection import GridSearchCV\n",
        "\n",
        "from sklearn.svm import SVC\n",
        "\n",
        "# создаем экземпляр классификатора с гиперпараметрами по умолчанию с kernel=rbf, C=1.0 и gamma=auto\n",
        "svc=SVC() \n",
        "\n",
        "\n",
        "\n",
        "# объявляем параметры для настройки гиперпараметра\n",
        "parameters = [ {'C':[1, 10, 100, 1000], 'kernel':['linear']},\n",
        "               {'C':[1, 10, 100, 1000], 'kernel':['rbf'], 'gamma':[0.1, 0.2, 0.3, 0.4, 0.5, 0.6, 0.7, 0.8, 0.9]},\n",
        "               {'C':[1, 10, 100, 1000], 'kernel':['poly'], 'degree': [2,3,4] ,'gamma':[0.01,0.02,0.03,0.04,0.05]} \n",
        "              ]\n",
        "\n",
        "\n",
        "\n",
        "\n",
        "grid_search = GridSearchCV(estimator = svc,  \n",
        "                           param_grid = parameters,\n",
        "                           scoring = 'accuracy',\n",
        "                           cv = 5,\n",
        "                           verbose=0)\n",
        "\n",
        "\n",
        "grid_search.fit(X_train, y_train)"
      ]
    },
    {
      "cell_type": "code",
      "execution_count": null,
      "id": "346f0702",
      "metadata": {
        "colab": {
          "base_uri": "https://localhost:8080/"
        },
        "id": "346f0702",
        "outputId": "9bc69744-e875-4013-9161-ab37565130f4"
      },
      "outputs": [
        {
          "output_type": "stream",
          "name": "stdout",
          "text": [
            "GridSearch CV дает лучший результат : 0.9875\n",
            "\n",
            "\n",
            "Параметры, которые дают наилучшие результаты : \n",
            "\n",
            " {'C': 10, 'gamma': 0.5, 'kernel': 'rbf'}\n",
            "\n",
            "\n",
            "Оценщик, выбранный при поиске по сетке : \n",
            "\n",
            " SVC(C=10, gamma=0.5)\n"
          ]
        }
      ],
      "source": [
        "#изучем лучшую модель\n",
        "#лучший результат, достигнутый во время GridSearchCV\n",
        "print('GridSearch CV дает лучший результат : {:.4f}\\n\\n'.format(grid_search.best_score_))\n",
        "\n",
        "\n",
        "# параметры, которые дают наилучшие результаты\n",
        "print('Параметры, которые дают наилучшие результаты :','\\n\\n', (grid_search.best_params_))\n",
        "\n",
        "\n",
        "# распечатайте оценщик, выбранный при поиске по сетке\n",
        "print('\\n\\nОценщик, выбранный при поиске по сетке :','\\n\\n', (grid_search.best_estimator_))"
      ]
    },
    {
      "cell_type": "code",
      "execution_count": null,
      "id": "4c47aa50",
      "metadata": {
        "colab": {
          "base_uri": "https://localhost:8080/",
          "height": 290
        },
        "id": "4c47aa50",
        "outputId": "f3712be3-2b97-4030-b063-5b8caad78e19"
      },
      "outputs": [
        {
          "output_type": "display_data",
          "data": {
            "text/plain": [
              "<Figure size 432x288 with 1 Axes>"
            ],
            "image/png": "[encoded data removed]"
          },
          "metadata": {
            "needs_background": "light"
          }
        }
      ],
      "source": [
        "import umap\n",
        "import colorcet as cc\n",
        "from sklearn.preprocessing import StandardScaler\n",
        "\n",
        "from sklearn.svm import SVC \n",
        "\n",
        "# model = SVC (kernel = 'linear') # Это линейная машина опорных векторов\n",
        "# model.fit(X,y)\n",
        "\n",
        "# SVC(C=1.0, cache_size=200, class_weight=None, coef0=0.0,\n",
        "#   decision_function_shape='ovr', degree=3, gamma='auto', kernel='linear',\n",
        "#   max_iter=-1, probability=False, random_state=None, shrinking=True,\n",
        "#   tol=0.001, verbose=False)\n",
        "\n",
        "# # 2) Модуль рисования\n",
        "# def plot_svc_decision_function(model, ax=None, plot_support=True):\n",
        "#     if ax is None:\n",
        "#         ax = plt.gca()\n",
        "#     xlim = ax.get_xlim()\n",
        "#     ylim = ax.get_ylim()\n",
        "    \n",
        "#     #create grid to evaluate model\n",
        "#     x = np.linspace(xlim[0], ylim[1], 30)\n",
        "#     y = np.linspace(ylim[0], ylim[1], 30)\n",
        "#     Y, X = np.meshgrid(y, x)\n",
        "#     xy = np.vstack([X.ravel(), Y.ravel()]).T\n",
        "#     P = model.decision_function(xy).reshape(X.shape)\n",
        "    \n",
        "#     # plot decision boundary and margins\n",
        "#     ax.contour(X, Y, P, colors='k',\n",
        "#                levels=[-1, 0, 1], alpha=0.5,\n",
        "#                linestyles=['--', '-', '--'])\n",
        "    \n",
        "#     # plot support vectors\n",
        "#     if plot_support:\n",
        "#         ax.scatter(model.support_vectors_[:, 0],\n",
        "#                    model.support_vectors_[:, 1],\n",
        "#                    s=300, linewidth=1, facecolors='none');\n",
        "#     ax.set_xlim(xlim)\n",
        "#     ax.set_ylim(ylim)\n",
        "    \n",
        "\n",
        "# plt.scatter(X[:, 0], X[:, 1], c=y, s=50, cmap='autumn')\n",
        "\n",
        "\n",
        "data = pd.read_csv(\"https://raw.githubusercontent.com/satishgunjal/datasets/master/admission_basedon_exam_scores.csv\")\n",
        "data = data.dropna()\n",
        "reducer = umap.UMAP()\n",
        "\n",
        "scaled_data = StandardScaler().fit_transform(data)\n",
        "embedding = reducer.fit_transform(scaled_data)\n",
        "embedding.shape\n",
        "\n",
        "palette = sns.color_palette(cc.glasbey, n_colors=2)\n",
        "\n",
        "sns.scatterplot(embedding[:, 0],\n",
        "                embedding[:, 1], \n",
        "                data=data, \n",
        "                hue = 'Admission status', \n",
        "                palette=palette)\n",
        "\n",
        "plt.title('UMAP projection of the dataset', fontsize=24);\n",
        "# plot_svc_decision_function(model);"
      ]
    },
    {
      "cell_type": "code",
      "execution_count": null,
      "id": "3e37ad4f",
      "metadata": {
        "id": "3e37ad4f",
        "colab": {
          "base_uri": "https://localhost:8080/",
          "height": 290
        },
        "outputId": "21842f6e-d96a-4565-b1c2-79c917ebb8c2"
      },
      "outputs": [
        {
          "output_type": "display_data",
          "data": {
            "text/plain": [
              "<Figure size 432x288 with 1 Axes>"
            ],
            "image/png": "[encoded data removed]"
          },
          "metadata": {
            "needs_background": "light"
          }
        }
      ],
      "source": [
        "from matplotlib import pyplot as plt\n",
        "import colorcet as cc\n",
        "import umap\n",
        "import pandas as pd\n",
        "import seaborn as sns\n",
        "from sklearn.manifold import TSNE\n",
        "from sklearn.preprocessing import *\n",
        "\n",
        "data = pd.read_csv(\"https://raw.githubusercontent.com/satishgunjal/datasets/master/admission_basedon_exam_scores.csv\")\n",
        "\n",
        "tsne = StandardScaler().fit_transform(data)\n",
        "\n",
        "tsne_data = TSNE(n_components=2, perplexity=30,\n",
        "    early_exaggeration=12,\n",
        "    learning_rate=200, \n",
        "    n_iter=5000, \n",
        "    n_iter_without_progress=300, \n",
        "    min_grad_norm=0.0000001, \n",
        "    metric='euclidean', \n",
        "    init='random', \n",
        "    verbose=0, \n",
        "    random_state=42,\n",
        "    method='barnes_hut', \n",
        "    angle=0.5, \n",
        "    n_jobs=-1,).fit_transform(tsne)\n",
        "\n",
        "palette = sns.color_palette(cc.glasbey, n_colors=2)\n",
        "sns.scatterplot(tsne_data[:, 0],\n",
        "                tsne_data[:, 1], \n",
        "                data=data, \n",
        "                hue = 'Admission status', \n",
        "                palette=palette)\n",
        "\n",
        "plt.title('T-SNE projection of the dataset ', fontsize=24);"
      ]
    },
    {
      "cell_type": "code",
      "execution_count": null,
      "id": "11ff66ec",
      "metadata": {
        "id": "11ff66ec"
      },
      "outputs": [],
      "source": []
    }
  ],
  "metadata": {
    "kernelspec": {
      "display_name": "Python 3 (ipykernel)",
      "language": "python",
      "name": "python3"
    },
    "language_info": {
      "codemirror_mode": {
        "name": "ipython",
        "version": 3
      },
      "file_extension": ".py",
      "mimetype": "text/x-python",
      "name": "python",
      "nbconvert_exporter": "python",
      "pygments_lexer": "ipython3",
      "version": "3.9.12"
    },
    "colab": {
      "provenance": [],
      "include_colab_link": true
    }
  },
  "nbformat": 4,
  "nbformat_minor": 5
}